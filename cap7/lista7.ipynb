{
 "cells": [
  {
   "cell_type": "markdown",
   "id": "d7981b43",
   "metadata": {},
   "source": [
    "# 7a Serie de exercicios - FM-293\n",
    "### Ramon Carlos Gargalhone"
   ]
  },
  {
   "cell_type": "code",
   "execution_count": 65,
   "id": "016b455d",
   "metadata": {},
   "outputs": [],
   "source": [
    "import numpy as np\n",
    "MU = 398600 # Parametro gravitacional"
   ]
  },
  {
   "cell_type": "markdown",
   "id": "d9c4036d",
   "metadata": {},
   "source": [
    "### Exercicio 1"
   ]
  },
  {
   "cell_type": "code",
   "execution_count": 66,
   "id": "96b306a4",
   "metadata": {},
   "outputs": [],
   "source": [
    "# Input\n",
    "r0 = 6600 #km\n",
    "rf = 9900 #km"
   ]
  },
  {
   "cell_type": "code",
   "execution_count": 67,
   "id": "c0fc80a3",
   "metadata": {},
   "outputs": [
    {
     "name": "stdout",
     "output_type": "stream",
     "text": [
      "Sigma: 1.5\n"
     ]
    }
   ],
   "source": [
    "sigma_f = rf/r0\n",
    "print(f\"Sigma: {sigma_f}\")"
   ]
  },
  {
   "cell_type": "markdown",
   "id": "39fd9d4b",
   "metadata": {},
   "source": [
    "Como σ < 11.94, a manobra ótima corresponde a manobra de Hohmann."
   ]
  },
  {
   "cell_type": "markdown",
   "id": "685b7f76",
   "metadata": {},
   "source": [
    "Os incrementos de velocidades sao dados por:"
   ]
  },
  {
   "cell_type": "code",
   "execution_count": 68,
   "id": "0495cf63",
   "metadata": {},
   "outputs": [
    {
     "name": "stdout",
     "output_type": "stream",
     "text": [
      "Primeiro incremento: 0.7417 km/s\n",
      "Segundo Incremento: 0.6699 km/s\n",
      "Delta V total: Cf = |∆v0| + |∆vf| = 1.4116 km/s\n"
     ]
    }
   ],
   "source": [
    "# primeiro incremento\n",
    "dv0 = np.sqrt(MU/r0)*(-1 + np.sqrt(2*sigma_f/(1 + sigma_f)))\n",
    "print(f\"Primeiro incremento: {dv0:.4f} km/s\")\n",
    "\n",
    "#segundo incremento\n",
    "dvf = np.sqrt(MU/(r0*sigma_f))*(1-np.sqrt(2/(1+sigma_f)))\n",
    "print(f\"Segundo Incremento: {dvf:.4f} km/s\")\n",
    "\n",
    "Cf = dv0 + dvf\n",
    "print(f\"Delta V total: Cf = |∆v0| + |∆vf| = {Cf:.4f} km/s\")\n"
   ]
  },
  {
   "cell_type": "markdown",
   "id": "0cf6c36c",
   "metadata": {},
   "source": [
    "O semi-eixo maior e a excentricidade da órbita de transferência"
   ]
  },
  {
   "cell_type": "code",
   "execution_count": 69,
   "id": "c1ca8865",
   "metadata": {},
   "outputs": [
    {
     "name": "stdout",
     "output_type": "stream",
     "text": [
      "Semi-eixo maior a: 1.0000 km\n",
      "Excentricidade: 0.2000\n"
     ]
    }
   ],
   "source": [
    "#semi-eixo maior:\n",
    "a = (r0+rf)/2\n",
    "print(f\"Semi-eixo maior a: {1:.4f} km\")\n",
    "\n",
    "#excentricidade\n",
    "e = (rf-r0)/(rf+r0)\n",
    "print(f\"Excentricidade: {e:.4f}\")\n",
    "\n"
   ]
  },
  {
   "cell_type": "markdown",
   "id": "7bd98aa5",
   "metadata": {},
   "source": [
    "duração da manobra é: "
   ]
  },
  {
   "cell_type": "code",
   "execution_count": 70,
   "id": "3fc9ffc4",
   "metadata": {},
   "outputs": [
    {
     "name": "stdout",
     "output_type": "stream",
     "text": [
      "Tempo de voo: 1hs 2 min 8.74s\n"
     ]
    }
   ],
   "source": [
    "#duracao da manobra\n",
    "delta_t = (np.pi/2)*np.sqrt((r0+rf)**3/(2*MU))\n",
    "#tempo em hh:mm:ss\n",
    "delta_t_h = int(delta_t/3600)\n",
    "delta_t_m = int((delta_t % 3600)/60)\n",
    "delta_t_s = (delta_t % 60)\n",
    "print(f\"Tempo de voo: {delta_t_h}hs {delta_t_m} min {delta_t_s:.2f}s\")"
   ]
  },
  {
   "cell_type": "markdown",
   "id": "f7814532",
   "metadata": {},
   "source": [
    "A manobra de menor consumo de combustível - mínimo delta-v - que transfere o satélite de uma órbita circular de 6600 para uma órbita circular a 9900 km é realizada mediante a aplicação de dois impulsos: o primeiro impulso, aplicado tangencialmente à órbita circular inicial, fornece um incremento de velocidade de 0.74174 km/s e coloca o satélite no pericentro de uma órbita elíptica de semi-eixo maior 8250.0 km e excentricidade 0.2. O segundo impulso, aplicado tangencialmente à órbita de transferência em seu apocentro, fornece um incremento de velocidade de 0.66989 km/s e coloca o satélite na órbita circular final. O tempo de voo para a realização da manobra é de 1 hs 02 min e 8.74s."
   ]
  },
  {
   "cell_type": "markdown",
   "id": "cc2e0bda",
   "metadata": {},
   "source": [
    "### Exercicio 2"
   ]
  },
  {
   "cell_type": "code",
   "execution_count": 71,
   "id": "f52fc417",
   "metadata": {},
   "outputs": [],
   "source": [
    "# Input\n",
    "r0 = 6600 #km\n",
    "rf = 90000 #km"
   ]
  },
  {
   "cell_type": "code",
   "execution_count": 72,
   "id": "16bccfb2",
   "metadata": {},
   "outputs": [
    {
     "name": "stdout",
     "output_type": "stream",
     "text": [
      "Sigma: 13.6364\n"
     ]
    }
   ],
   "source": [
    "sigma_f = rf/r0\n",
    "print(f\"Sigma: {sigma_f:.4f}\")"
   ]
  },
  {
   "cell_type": "markdown",
   "id": "7636c466",
   "metadata": {},
   "source": [
    "Como σ > 11.94, a manobra ótima corresponde a bi-parabólica."
   ]
  },
  {
   "cell_type": "markdown",
   "id": "b9e7558d",
   "metadata": {},
   "source": [
    "O incremento de velocidade no primeiro impulso é dado por"
   ]
  },
  {
   "cell_type": "code",
   "execution_count": 73,
   "id": "b80d0dcc",
   "metadata": {},
   "outputs": [
    {
     "name": "stdout",
     "output_type": "stream",
     "text": [
      "Primeiro incremento: 3.2190 km/s\n"
     ]
    }
   ],
   "source": [
    "dv0 = np.sqrt(MU/r0)*(-1 + np.sqrt(2))\n",
    "print(f\"Primeiro incremento: {dv0:.4f} km/s\")\n"
   ]
  },
  {
   "cell_type": "markdown",
   "id": "e59daf6e",
   "metadata": {},
   "source": [
    "O incremento de velocidade no segundo impulso é dado por:"
   ]
  },
  {
   "cell_type": "code",
   "execution_count": 74,
   "id": "0ad6ab74",
   "metadata": {},
   "outputs": [
    {
     "name": "stdout",
     "output_type": "stream",
     "text": [
      "Segundo Incremento: 0.8717 km/s\n"
     ]
    }
   ],
   "source": [
    "#segundo incremento\n",
    "dvf = np.sqrt(MU/(rf))*(np.sqrt(2) -1)\n",
    "print(f\"Segundo Incremento: {dvf:.4f} km/s\")"
   ]
  },
  {
   "cell_type": "markdown",
   "id": "9e0a8348",
   "metadata": {},
   "source": [
    "A velocidade característica da manobra:\n",
    "Cf = |∆v0| + |∆vf| "
   ]
  },
  {
   "cell_type": "code",
   "execution_count": 75,
   "id": "96557783",
   "metadata": {},
   "outputs": [
    {
     "name": "stdout",
     "output_type": "stream",
     "text": [
      "Delta V total: 4.0907 km/s\n"
     ]
    }
   ],
   "source": [
    "Cf = dv0 + dvf\n",
    "print(f\"Delta V total: {Cf:.4f} km/s\")"
   ]
  },
  {
   "cell_type": "markdown",
   "id": "a6801db9",
   "metadata": {},
   "source": [
    "Semi-latus rectum para bi-parabolica:"
   ]
  },
  {
   "cell_type": "code",
   "execution_count": 76,
   "id": "2420aff8",
   "metadata": {},
   "outputs": [
    {
     "name": "stdout",
     "output_type": "stream",
     "text": [
      "Semi-latus rectum parabolica 1: 13200.0000 km\n",
      "Semi-latus rectum parabolica 2: 180000.0000 km\n"
     ]
    }
   ],
   "source": [
    "p = r0*2\n",
    "print(f\"Semi-latus rectum parabolica 1: {p:.4f} km\")\n",
    "\n",
    "p = rf*2\n",
    "print(f\"Semi-latus rectum parabolica 2: {p:.4f} km\")"
   ]
  },
  {
   "cell_type": "markdown",
   "id": "456ef7c5",
   "metadata": {},
   "source": [
    "A manobra de mínimo delta-v que transfere o satélite de uma órbita circular de 6600 km de raio para uma órbita circular de 90000 km de raio é: \n",
    "\n",
    "Dois impulsos finitos e de um impulso intermediário infinitesimal: o primeiro impulso, aplicado tangencialmente à órbita circular inicial, fornece um incremento de velocidade de 3.2190 km/s e coloca o satélite no pericentro de uma órbita parabólica de semi-latus rectum 13200 km. O impulso intermediário, aplicado a uma distância infinita, coloca o satélite em uma segunda órbita parabólica de semi-latus rectum 180000 km. O segundo impulso finito, aplicado tangencialmente à segunda órbita parabólica em seu pericentro, fornece um incremento de velocidade de 0.87171 km/s, desacelerando o satélite e colocando-o na órbita circular final. "
   ]
  },
  {
   "cell_type": "markdown",
   "id": "55c515e9",
   "metadata": {},
   "source": [
    "### Exercicio 3"
   ]
  },
  {
   "cell_type": "code",
   "execution_count": 77,
   "id": "4442c728",
   "metadata": {},
   "outputs": [],
   "source": [
    "# Input\n",
    "r0 = 7000\n",
    "THETA_DEG = 45\n",
    "THETA = np.radians(THETA_DEG)"
   ]
  },
  {
   "cell_type": "markdown",
   "id": "d609c05a",
   "metadata": {},
   "source": [
    "Para 38.94 <= Θ <= 60, temos uma manobra com 3 impulsos. Calculando σ∗"
   ]
  },
  {
   "cell_type": "code",
   "execution_count": 78,
   "id": "e793b702",
   "metadata": {},
   "outputs": [
    {
     "name": "stdout",
     "output_type": "stream",
     "text": [
      "sigma: 1.6310\n"
     ]
    }
   ],
   "source": [
    "sigma = np.sin(THETA/2)/(1 - 2*np.sin(THETA/2))\n",
    "print(f\"sigma: {sigma:.4f}\")"
   ]
  },
  {
   "cell_type": "markdown",
   "id": "71020951",
   "metadata": {},
   "source": [
    "Calculando a excentricidade da órbita de transferência:"
   ]
  },
  {
   "cell_type": "code",
   "execution_count": 79,
   "id": "fe021f80",
   "metadata": {},
   "outputs": [
    {
     "name": "stdout",
     "output_type": "stream",
     "text": [
      "Excentricidade manobra intermediaria: 0.2398\n"
     ]
    }
   ],
   "source": [
    "e1 = (sigma - 1)/(sigma + 1)\n",
    "print(f\"Excentricidade manobra intermediaria: {e1:.4f}\")"
   ]
  },
  {
   "cell_type": "markdown",
   "id": "b8ff1a76",
   "metadata": {},
   "source": [
    "Os incrementos de velocidade iniciais e finais serão iguais, |∆v0| = |∆vf|"
   ]
  },
  {
   "cell_type": "code",
   "execution_count": 80,
   "id": "188e3abd",
   "metadata": {},
   "outputs": [
    {
     "name": "stdout",
     "output_type": "stream",
     "text": [
      "deltaV manobra inicial = final: 0.8563 km/s\n"
     ]
    }
   ],
   "source": [
    "dv0 = np.sqrt(MU/r0)*(np.sqrt(1+e1) - 1)\n",
    "print(f\"deltaV manobra inicial = final: {dv0:.4f} km/s\")\n",
    "dvf = dv0"
   ]
  },
  {
   "cell_type": "markdown",
   "id": "d509d85c",
   "metadata": {},
   "source": [
    "Onde o raio da manobra intermediária será:"
   ]
  },
  {
   "cell_type": "code",
   "execution_count": 81,
   "id": "eb66d0a3",
   "metadata": {},
   "outputs": [
    {
     "name": "stdout",
     "output_type": "stream",
     "text": [
      "raio manobra intermediaria: 11416.9042 km\n"
     ]
    }
   ],
   "source": [
    "r = r0*sigma\n",
    "print(f\"raio manobra intermediaria: {r:.4f} km\")"
   ]
  },
  {
   "cell_type": "markdown",
   "id": "38a40a94",
   "metadata": {},
   "source": [
    "Manobra intermediaria:"
   ]
  },
  {
   "cell_type": "code",
   "execution_count": 82,
   "id": "62296914",
   "metadata": {},
   "outputs": [
    {
     "name": "stdout",
     "output_type": "stream",
     "text": [
      "deltaV manobra inermediaria: 3.9429 km/s\n"
     ]
    }
   ],
   "source": [
    "dvi = 2*np.sqrt(MU/r)*np.sqrt(1-e1)*np.sin(THETA/2)\n",
    "print(f\"deltaV manobra inermediaria: {dvi:.4f} km/s\")"
   ]
  },
  {
   "cell_type": "markdown",
   "id": "612b8657",
   "metadata": {},
   "source": [
    "Finalmente, a velocidade característica necessária será:\n",
    "Cf = |∆v0| + |∆vi| + |∆vf|"
   ]
  },
  {
   "cell_type": "code",
   "execution_count": 83,
   "id": "4290afac",
   "metadata": {},
   "outputs": [
    {
     "name": "stdout",
     "output_type": "stream",
     "text": [
      "deltaV Total 3 impulsos 5.6555 km/s\n"
     ]
    }
   ],
   "source": [
    "Cf = abs(dv0) + abs(dvf) + abs(dvi)\n",
    "print(f\"deltaV Total 3 impulsos {Cf:.4f} km/s\")"
   ]
  },
  {
   "cell_type": "markdown",
   "id": "ebc74d8d",
   "metadata": {},
   "source": [
    "### Exercicio 4"
   ]
  },
  {
   "cell_type": "code",
   "execution_count": 84,
   "id": "ffd9f03c",
   "metadata": {},
   "outputs": [],
   "source": [
    "# Input\n",
    "r0 = 10000\n",
    "THETA_DEG = 30\n",
    "THETA = np.radians(THETA_DEG)"
   ]
  },
  {
   "cell_type": "markdown",
   "id": "df8dc836",
   "metadata": {},
   "source": [
    "Para 0 <= Θ <= 38.94, temos uma manobra com apenas 1 impulso.\n",
    "O incremento de velocidade necessário para realizar a manobra de mudança de plano orbital com um único impulso:"
   ]
  },
  {
   "cell_type": "code",
   "execution_count": 85,
   "id": "b954779a",
   "metadata": {},
   "outputs": [
    {
     "name": "stdout",
     "output_type": "stream",
     "text": [
      "deltaV 1 impulso 3.2681 km/s\n"
     ]
    }
   ],
   "source": [
    "delta_v = 2*np.sqrt(MU/r0)*np.sin(THETA/2)\n",
    "print(f\"deltaV 1 impulso {delta_v:.4f} km/s\")"
   ]
  },
  {
   "cell_type": "markdown",
   "id": "103c16f5",
   "metadata": {},
   "source": [
    "### Exercicio 5"
   ]
  },
  {
   "cell_type": "code",
   "execution_count": 86,
   "id": "c31b3749",
   "metadata": {},
   "outputs": [],
   "source": [
    "# Input\n",
    "r0 = 12000\n",
    "THETA_DEG = 75\n",
    "THETA = np.radians(THETA_DEG)"
   ]
  },
  {
   "cell_type": "markdown",
   "id": "9faff270",
   "metadata": {},
   "source": [
    "Para 60 <= Θ <= 180, temos uma manobra com 3 impulsos bi-parabólica, onde o impulso intermediário e infinitesimal."
   ]
  },
  {
   "cell_type": "markdown",
   "id": "31a4dbb4",
   "metadata": {},
   "source": [
    "O incremento de velocidade inicial será:"
   ]
  },
  {
   "cell_type": "code",
   "execution_count": 87,
   "id": "01600a4f",
   "metadata": {},
   "outputs": [
    {
     "name": "stdout",
     "output_type": "stream",
     "text": [
      "Primeiro incremento: 2.3873 km/s\n"
     ]
    }
   ],
   "source": [
    "# case 3\n",
    "dv0 = np.sqrt(MU/r0)*(-1 + np.sqrt(2))\n",
    "print(f\"Primeiro incremento: {dv0:.4f} km/s\")"
   ]
  },
  {
   "cell_type": "markdown",
   "id": "da6db5b4",
   "metadata": {},
   "source": [
    "O incremento de velocidade final será: Como r0 = rf"
   ]
  },
  {
   "cell_type": "code",
   "execution_count": 88,
   "id": "69a35630",
   "metadata": {},
   "outputs": [
    {
     "name": "stdout",
     "output_type": "stream",
     "text": [
      "Segundo Incremento: 2.3873 km/s\n"
     ]
    }
   ],
   "source": [
    "#segundo incremento\n",
    "dvf = np.sqrt(MU/(r0))*(np.sqrt(2) -1)\n",
    "print(f\"Segundo Incremento: {dvf:.4f} km/s\")"
   ]
  },
  {
   "cell_type": "markdown",
   "id": "76ebde4b",
   "metadata": {},
   "source": [
    "Assim, a velocidade característica necessária será: Cf = |∆v0| + |∆vf| "
   ]
  },
  {
   "cell_type": "code",
   "execution_count": 89,
   "id": "acf9086e",
   "metadata": {},
   "outputs": [
    {
     "name": "stdout",
     "output_type": "stream",
     "text": [
      "Delta V total: 4.7745 km/s\n",
      "Impulso intermediario a uma distancia infinita, de valor infinitezimal\n"
     ]
    }
   ],
   "source": [
    "Cf = dv0 + dvf\n",
    "print(f\"Delta V total: {Cf:.4f} km/s\")\n",
    "\n",
    "print(\"Impulso intermediario a uma distancia infinita, de valor infinitezimal\")"
   ]
  },
  {
   "cell_type": "markdown",
   "id": "b4a40be7",
   "metadata": {},
   "source": [
    "### Exercicio 6"
   ]
  },
  {
   "cell_type": "code",
   "execution_count": 90,
   "id": "9385174e",
   "metadata": {},
   "outputs": [],
   "source": [
    "# Input\n",
    "r0 = 7160  # km\n",
    "rf = 3 * r0\n",
    "THETA_DEG = 30\n",
    "THETA = np.radians(THETA_DEG)"
   ]
  },
  {
   "cell_type": "markdown",
   "id": "1dc082d1",
   "metadata": {},
   "source": [
    "Elementos orbitais:"
   ]
  },
  {
   "cell_type": "code",
   "execution_count": 91,
   "id": "02999d4a",
   "metadata": {},
   "outputs": [
    {
     "name": "stdout",
     "output_type": "stream",
     "text": [
      "Semi-eixo maior: 14320.0000 km\n",
      "Excentricidade: 0.5000\n"
     ]
    }
   ],
   "source": [
    "a = (r0 + rf) / 2\n",
    "e = (rf - r0) / (rf + r0)\n",
    "print(f\"Semi-eixo maior: {a:.4f} km\")\n",
    "print(f\"Excentricidade: {e:.4f}\")"
   ]
  },
  {
   "cell_type": "markdown",
   "id": "b2d8febd",
   "metadata": {},
   "source": [
    "Velocidades nos apsis da órbita de transferência:"
   ]
  },
  {
   "cell_type": "code",
   "execution_count": 92,
   "id": "bd9967b9",
   "metadata": {},
   "outputs": [
    {
     "name": "stdout",
     "output_type": "stream",
     "text": [
      "Velocidades nos apsis da órbita de transferência: 9.1381, 3.0460 km/s\n"
     ]
    }
   ],
   "source": [
    "v1_abs = np.sqrt((MU * (1 + e)) / r0)\n",
    "v2_abs = np.sqrt((MU * (1 - e)) / rf)\n",
    "\n",
    "print(f\"Velocidades nos apsis da órbita de transferência: {v1_abs:.4f}, {v2_abs:.4f} km/s\")"
   ]
  },
  {
   "cell_type": "markdown",
   "id": "e959059e",
   "metadata": {},
   "source": [
    "Velocidades nas órbitas inicial e final:"
   ]
  },
  {
   "cell_type": "code",
   "execution_count": 93,
   "id": "9264ad6e",
   "metadata": {},
   "outputs": [
    {
     "name": "stdout",
     "output_type": "stream",
     "text": [
      "Velocidades nos apsis da órbita de transferência: 9.1381, 3.0460 km/s\n",
      "Velocidades nas órbitas circular inicial e final: 7.4613, 4.3078 km/s\n"
     ]
    }
   ],
   "source": [
    "v0 = np.sqrt(MU / r0)\n",
    "vf = np.sqrt(MU / rf)\n",
    "print(f\"Velocidades nos apsis da órbita de transferência: {v1_abs:.4f}, {v2_abs:.4f} km/s\")\n",
    "print(f\"Velocidades nas órbitas circular inicial e final: {v0:.4f}, {vf:.4f} km/s\")"
   ]
  },
  {
   "cell_type": "markdown",
   "id": "db46e5de",
   "metadata": {},
   "source": [
    "Aplicando o método de Newton-Raphson: α∗"
   ]
  },
  {
   "cell_type": "code",
   "execution_count": 94,
   "id": "b28b0ddd",
   "metadata": {},
   "outputs": [
    {
     "name": "stdout",
     "output_type": "stream",
     "text": [
      "Convergiu em 5 iterações.\n",
      "Angulo otimo alpha1: 4.1727 graus\n"
     ]
    }
   ],
   "source": [
    "# Função dDeltav(alpha1)\n",
    "def f(alpha1):\n",
    "    term1 = v1_abs * v0 * np.sin(alpha1)\n",
    "    term1_2 = np.sqrt(v2_abs**2 + vf**2 - 2*v2_abs*vf*np.cos(THETA - alpha1))\n",
    "    term2 = v2_abs * vf * np.sin(THETA - alpha1)\n",
    "    term2_2 = np.sqrt(v1_abs**2 + v0**2 - 2*v1_abs*v0*np.cos(alpha1))\n",
    "    return term1 * term1_2 - term2 * term2_2\n",
    "\n",
    "# Derivada dDeltav/dalpha1\n",
    "def df(alpha1, h=1e-6):\n",
    "    return (f(alpha1 + h) - f(alpha1 - h)) / (2 * h)\n",
    "\n",
    "# Metodo de Newton-Raphson\n",
    "def newton_raphson(alpha0, tol=1e-8, max_iter=100):\n",
    "    alpha = alpha0\n",
    "    for i in range(max_iter):\n",
    "        f_val = f(alpha)\n",
    "        df_val = df(alpha)\n",
    "        if abs(df_val) < 1e-12:\n",
    "            print(\"Derivada próxima de zero, parada.\")\n",
    "            break\n",
    "        alpha_new = alpha - f_val / df_val\n",
    "        if abs(alpha_new - alpha) < tol:\n",
    "            print(f\"Convergiu em {i+1} iterações.\")\n",
    "            return alpha_new\n",
    "        alpha = alpha_new\n",
    "    raise RuntimeError(\"Não convergiu.\")\n",
    "\n",
    "alpha0_guess = np.radians(10)  # chute inicial\n",
    "alpha1_solution = newton_raphson(alpha0_guess)\n",
    "print(f\"Angulo otimo alpha1: {np.degrees(alpha1_solution):.4f} graus\")"
   ]
  },
  {
   "cell_type": "markdown",
   "id": "9e63a450",
   "metadata": {},
   "source": [
    "Os incrementos de velocidade em cada um dos impulsos são dados por"
   ]
  },
  {
   "cell_type": "code",
   "execution_count": 95,
   "id": "66d29b89",
   "metadata": {},
   "outputs": [
    {
     "name": "stdout",
     "output_type": "stream",
     "text": [
      "deltaV0: 1.7814 km/s\n",
      "deltaVf: 2.0526 km/s\n"
     ]
    }
   ],
   "source": [
    "delta_v0 = np.sqrt(v1_abs**2 + v0**2 -2*v1_abs*v0*np.cos(alpha1_solution))\n",
    "print(f\"deltaV0: {delta_v0:.4f} km/s\")\n",
    "\n",
    "delta_vf = np.sqrt(v2_abs**2 + vf**2 -2*v2_abs*vf*np.cos(THETA-alpha1_solution))\n",
    "print(f\"deltaVf: {delta_vf:.4f} km/s\")"
   ]
  },
  {
   "cell_type": "markdown",
   "id": "12517bca",
   "metadata": {},
   "source": [
    "A velocidade característica necessária:\n",
    "Cf = |∆v0| + |∆vf|"
   ]
  },
  {
   "cell_type": "code",
   "execution_count": 96,
   "id": "316c0ada",
   "metadata": {},
   "outputs": [
    {
     "name": "stdout",
     "output_type": "stream",
     "text": [
      "Cf = 3.8340 km/s\n"
     ]
    }
   ],
   "source": [
    "print(f\"Cf = {(delta_v0+delta_vf):.4f} km/s\")"
   ]
  },
  {
   "cell_type": "markdown",
   "id": "9c043e61",
   "metadata": {},
   "source": [
    "### Exercicio 7"
   ]
  },
  {
   "cell_type": "markdown",
   "id": "8f6cc3ca",
   "metadata": {},
   "source": [
    "Obtenha a expressão para o incremento total de velocidade Deltav\n",
    "relativo à segunda manobra com três impulsos para o problema de rendez-vous descrita no texto"
   ]
  },
  {
   "cell_type": "markdown",
   "id": "f4651a62",
   "metadata": {},
   "source": [
    "= a 7.3.2 (hoelker e silber)"
   ]
  },
  {
   "cell_type": "markdown",
   "id": "149850f2",
   "metadata": {},
   "source": []
  }
 ],
 "metadata": {
  "kernelspec": {
   "display_name": "Python 3",
   "language": "python",
   "name": "python3"
  },
  "language_info": {
   "codemirror_mode": {
    "name": "ipython",
    "version": 3
   },
   "file_extension": ".py",
   "mimetype": "text/x-python",
   "name": "python",
   "nbconvert_exporter": "python",
   "pygments_lexer": "ipython3",
   "version": "3.9.7"
  }
 },
 "nbformat": 4,
 "nbformat_minor": 5
}
