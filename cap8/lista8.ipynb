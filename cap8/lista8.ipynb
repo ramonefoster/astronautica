{
 "cells": [
  {
   "cell_type": "markdown",
   "id": "fba5f457",
   "metadata": {},
   "source": [
    "<h1>Fundamentos de Astronautica - FM 293</h1>"
   ]
  },
  {
   "cell_type": "markdown",
   "id": "7d0855d8",
   "metadata": {},
   "source": [
    "Ramon Carlos Gargalhone"
   ]
  },
  {
   "cell_type": "code",
   "execution_count": 1,
   "id": "a13c5b9e",
   "metadata": {},
   "outputs": [],
   "source": [
    "import numpy as np\n",
    "import datetime\n",
    "\n",
    "# Calculo do parametro adimensional Qbo\n",
    "def calc_Qbo(r_bo, v_bo, mu):\n",
    "    Q_bo = r_bo*v_bo**2/mu\n",
    "    print(f\"Parametro adimensional Qbo: {Q_bo:.4f}\")\n",
    "    return Q_bo"
   ]
  },
  {
   "cell_type": "markdown",
   "id": "c214820a",
   "metadata": {},
   "source": [
    "Constantes utilizadas ao longo dos exercicios"
   ]
  },
  {
   "cell_type": "code",
   "execution_count": 2,
   "id": "0f3fced7",
   "metadata": {},
   "outputs": [],
   "source": [
    "# Constantes\n",
    "MU = 1 # Parametro gravitacional em unidades canonicas\n",
    "MU_SI = 398600 # Parametro gravitacional\n",
    "r_terra = 6378 # km"
   ]
  },
  {
   "cell_type": "markdown",
   "id": "2df7b148",
   "metadata": {},
   "source": [
    "# Exercicio 1"
   ]
  },
  {
   "cell_type": "code",
   "execution_count": 3,
   "id": "0c93a07a",
   "metadata": {},
   "outputs": [],
   "source": [
    "# Input\n",
    "r_bo = 1.05 # u.d.\n",
    "v_bo = 0.926 # u.d/u.t\n",
    "phi_bo = 10 # deg\n",
    "R_p = 100 # km\n",
    "R_re = 500 # km"
   ]
  },
  {
   "cell_type": "markdown",
   "id": "c7f5d630",
   "metadata": {},
   "source": [
    "Calculando o alcance angular de vôo livre"
   ]
  },
  {
   "cell_type": "code",
   "execution_count": 4,
   "id": "5ebe58e4",
   "metadata": {},
   "outputs": [
    {
     "name": "stdout",
     "output_type": "stream",
     "text": [
      "Parametro adimensional Qbo: 0.9003\n",
      "O alcance angular de vôo livre é 101.0546\n"
     ]
    }
   ],
   "source": [
    "phi_bo_rad = np.radians(phi_bo)\n",
    "Q_bo = calc_Qbo(r_bo, v_bo, MU)\n",
    "halfCosPsi = (1 - Q_bo*np.cos(phi_bo_rad)**2)/np.sqrt(1 + Q_bo*(Q_bo-2)*np.cos(phi_bo_rad)**2)\n",
    "Psi = 2*np.arccos(halfCosPsi)\n",
    "print(f\"O alcance angular de vôo livre é {np.degrees(Psi):.4f}\")"
   ]
  },
  {
   "cell_type": "markdown",
   "id": "632ad1a8",
   "metadata": {},
   "source": [
    "Alcance angular total"
   ]
  },
  {
   "cell_type": "code",
   "execution_count": 5,
   "id": "302116d4",
   "metadata": {},
   "outputs": [
    {
     "name": "stdout",
     "output_type": "stream",
     "text": [
      "Alcance angular total: 106.4446\n"
     ]
    }
   ],
   "source": [
    "Theta = R_re/r_terra\n",
    "Gama = R_p/r_terra    \n",
    "    \n",
    "Lambda = Psi + Theta + Gama\n",
    "print(f\"Alcance angular total: {np.degrees(Lambda):.4f}\")"
   ]
  },
  {
   "cell_type": "markdown",
   "id": "8b6f8d5f",
   "metadata": {},
   "source": [
    "# Exercicio 3"
   ]
  },
  {
   "cell_type": "code",
   "execution_count": 6,
   "id": "fdb35f88",
   "metadata": {},
   "outputs": [],
   "source": [
    "# INPUT:\n",
    "r_bo = 1.012 #u.d\n",
    "v_bo = 0.50 #u.d/u.t"
   ]
  },
  {
   "cell_type": "markdown",
   "id": "33476c64",
   "metadata": {},
   "source": [
    "Calculando máximo alcance angular Psi e o ângulo da trajetória de vôo Phi_bo"
   ]
  },
  {
   "cell_type": "code",
   "execution_count": 7,
   "id": "8941706b",
   "metadata": {},
   "outputs": [
    {
     "name": "stdout",
     "output_type": "stream",
     "text": [
      "Parametro adimensional Qbo: 0.2530\n",
      "O máximo alcance angular de vôo livre é 16.6537\n",
      "O ângulo da trajetória de vôo: 40.8366 graus\n"
     ]
    }
   ],
   "source": [
    "Q_bo = calc_Qbo(r_bo, v_bo, MU)\n",
    "Psi = 2*np.arcsin(Q_bo/(2-Q_bo))\n",
    "print(f\"O máximo alcance angular de vôo livre é {np.degrees(Psi):.4f}\")\n",
    "Phi_bo_star = (1/4)*(np.pi - Psi)\n",
    "print(f\"O ângulo da trajetória de vôo: {np.degrees(Phi_bo_star):.4f} graus\")"
   ]
  },
  {
   "cell_type": "markdown",
   "id": "13d643df",
   "metadata": {},
   "source": [
    "# Exercicio 5"
   ]
  },
  {
   "cell_type": "code",
   "execution_count": 8,
   "id": "88170862",
   "metadata": {},
   "outputs": [],
   "source": [
    "# Input:\n",
    "r_vec = np.array([1, 0.25, 0]) # u.d. \n",
    "v_vec = np.array([0, 0.2, np.sqrt(0.6)]) #u.d/u.t"
   ]
  },
  {
   "cell_type": "markdown",
   "id": "bf259d9c",
   "metadata": {},
   "source": [
    "Condições de fim de queima: r_bo e v_bo"
   ]
  },
  {
   "cell_type": "code",
   "execution_count": 9,
   "id": "eca16392",
   "metadata": {},
   "outputs": [
    {
     "name": "stdout",
     "output_type": "stream",
     "text": [
      "raio do ponto de fim de queima: 1.0308 u.d\n",
      "velocidade no ponto de fim de queima: 0.8000 u.d\n"
     ]
    }
   ],
   "source": [
    "r_bo = np.linalg.norm(r_vec)\n",
    "v_bo = np.linalg.norm(v_vec)\n",
    "print(f\"raio do ponto de fim de queima: {r_bo:.4f} u.d\")\n",
    "print(f\"velocidade no ponto de fim de queima: {v_bo:.4f} u.d\")"
   ]
  },
  {
   "cell_type": "markdown",
   "id": "921c6ac8",
   "metadata": {},
   "source": [
    "O máximo alcance angular de vôo livre"
   ]
  },
  {
   "cell_type": "code",
   "execution_count": 10,
   "id": "de1f4112",
   "metadata": {},
   "outputs": [
    {
     "name": "stdout",
     "output_type": "stream",
     "text": [
      "Parametro adimensional Qbo: 0.6597\n",
      "O máximo alcance angular de vôo livre é 58.9705\n"
     ]
    }
   ],
   "source": [
    "Q_bo = calc_Qbo(r_bo, v_bo, MU)\n",
    "Psi = 2*np.arcsin(Q_bo/(2-Q_bo))\n",
    "print(f\"O máximo alcance angular de vôo livre é {np.degrees(Psi):.4f}\")"
   ]
  },
  {
   "cell_type": "markdown",
   "id": "05ef2577",
   "metadata": {},
   "source": [
    "O alcance de vôo livre:"
   ]
  },
  {
   "cell_type": "code",
   "execution_count": 11,
   "id": "18866c16",
   "metadata": {},
   "outputs": [
    {
     "name": "stdout",
     "output_type": "stream",
     "text": [
      "Alcance de vôo livre: 6564.4295 km\n"
     ]
    }
   ],
   "source": [
    "R_vl = Psi*r_terra\n",
    "print(f\"Alcance de vôo livre: {R_vl:.4f} km\")"
   ]
  },
  {
   "cell_type": "markdown",
   "id": "ef13ec38",
   "metadata": {},
   "source": [
    "# Exercicio 7"
   ]
  },
  {
   "cell_type": "code",
   "execution_count": 12,
   "id": "399ad030",
   "metadata": {},
   "outputs": [],
   "source": [
    "# Input\n",
    "r_bo = 1.025 #u.d. \n",
    "v_bo = 0.975 #u.d.\n",
    "Psi_deg = 90 #deg\n",
    "Psi = np.radians(Psi_deg)"
   ]
  },
  {
   "cell_type": "markdown",
   "id": "6f8b13ce",
   "metadata": {},
   "source": [
    "Calculando o parâmetro adimensional, o ângulo da trajetória de vôo, o semi-eixo maior e a excentricidade"
   ]
  },
  {
   "cell_type": "code",
   "execution_count": 13,
   "id": "61fe8255",
   "metadata": {},
   "outputs": [
    {
     "name": "stdout",
     "output_type": "stream",
     "text": [
      "Parametro adimensional Qbo: 0.9744\n"
     ]
    }
   ],
   "source": [
    "Q_bo = calc_Qbo(r_bo, v_bo, MU)"
   ]
  },
  {
   "cell_type": "markdown",
   "id": "1465a072",
   "metadata": {},
   "source": [
    "Como o Parametro adimensional Qbo < 1, se Psi for realizavel, havera duas trajetorias possiveis, alta e baixa."
   ]
  },
  {
   "cell_type": "markdown",
   "id": "9c77b1f1",
   "metadata": {},
   "source": [
    "Trajetoria Baixa:"
   ]
  },
  {
   "cell_type": "code",
   "execution_count": 14,
   "id": "e68880e7",
   "metadata": {},
   "outputs": [
    {
     "name": "stdout",
     "output_type": "stream",
     "text": [
      "O ângulo da trajetória de vôo: 1.5485 graus\n",
      "Semi-eixo maior: 0.9994 u.d\n",
      "Excentricidade: 0.0372\n",
      "anomalia excêntrica: 2.3295 rad\n"
     ]
    }
   ],
   "source": [
    "Phi_bo = (np.arcsin( ((2-Q_bo)/Q_bo)*np.sin(Psi/2) ) - Psi/2)/2\n",
    "print(f\"O ângulo da trajetória de vôo: {np.degrees(Phi_bo):.4f} graus\")\n",
    "a = r_bo/(2-Q_bo)\n",
    "print(f\"Semi-eixo maior: {a:.4f} u.d\")\n",
    "e = np.sqrt(1 + Q_bo*(Q_bo-2)*np.cos(Phi_bo)**2)\n",
    "print(f\"Excentricidade: {e:.4f}\")\n",
    "\n",
    "# A anomalia excêntrica no ponto de fim de queima\n",
    "E = np.arccos( (e - np.cos(Psi/2))/(1-e*np.cos(Psi/2)) )\n",
    "print(f\"anomalia excêntrica: {E:.4f} rad\")"
   ]
  },
  {
   "cell_type": "markdown",
   "id": "a2e0cf5f",
   "metadata": {},
   "source": [
    "Tempo de voo"
   ]
  },
  {
   "cell_type": "code",
   "execution_count": 15,
   "id": "348b0ee9",
   "metadata": {},
   "outputs": [
    {
     "name": "stdout",
     "output_type": "stream",
     "text": [
      "Tempo de voo livre: 1.6767 u.t\n"
     ]
    }
   ],
   "source": [
    "t_vl = 2*np.sqrt(a**3/MU)*(np.pi - E+e*np.sin(E))\n",
    "print(f\"Tempo de voo livre: {t_vl:.4f} u.t\")"
   ]
  },
  {
   "cell_type": "markdown",
   "id": "f0e7febf",
   "metadata": {},
   "source": [
    "Trajetoria Alta:"
   ]
  },
  {
   "cell_type": "code",
   "execution_count": 16,
   "id": "cbbb4a3e",
   "metadata": {},
   "outputs": [
    {
     "name": "stdout",
     "output_type": "stream",
     "text": [
      "O ângulo da trajetória de vôo: 43.4515 graus\n",
      "Semi-eixo maior: 0.9994 u.d\n",
      "Excentricidade: 0.6880\n",
      "anomalia excêntrica: 1.6080 rad\n",
      "Tempo de voo livre: 4.4382 u.t\n"
     ]
    }
   ],
   "source": [
    "term1 = np.arcsin((2-Q_bo)/Q_bo*np.sin(Psi/2))\n",
    "Phi_bo = (np.pi - term1 - Psi/2)/2\n",
    "print(f\"O ângulo da trajetória de vôo: {np.degrees(Phi_bo):.4f} graus\")\n",
    "a = r_bo/(2-Q_bo)\n",
    "print(f\"Semi-eixo maior: {a:.4f} u.d\")\n",
    "e = np.sqrt(1 + Q_bo*(Q_bo-2)*np.cos(Phi_bo)**2)\n",
    "print(f\"Excentricidade: {e:.4f}\")\n",
    "\n",
    "# A anomalia excêntrica no ponto de fim de queima\n",
    "E = np.arccos( (e - np.cos(Psi/2))/(1-e*np.cos(Psi/2)) )\n",
    "print(f\"anomalia excêntrica: {E:.4f} rad\")\n",
    "\n",
    "t_vl = 2*np.sqrt(a**3/MU)*(np.pi - E+e*np.sin(E))\n",
    "print(f\"Tempo de voo livre: {t_vl:.4f} u.t\")"
   ]
  },
  {
   "cell_type": "markdown",
   "id": "59a40eab",
   "metadata": {},
   "source": [
    "# Exercicio 9"
   ]
  },
  {
   "cell_type": "code",
   "execution_count": 17,
   "id": "67080ef5",
   "metadata": {},
   "outputs": [
    {
     "name": "stdout",
     "output_type": "stream",
     "text": [
      "Raio de apogeu: 6728 km\n"
     ]
    }
   ],
   "source": [
    "# Input\n",
    "r_bo = 6450 # km\n",
    "v_bo = 3.75 #km/s\n",
    "ha = 350 #km\n",
    "r_a = r_terra + ha\n",
    "print(f\"Raio de apogeu: {r_a} km\")"
   ]
  },
  {
   "cell_type": "markdown",
   "id": "e0883f47",
   "metadata": {},
   "source": [
    "Determinar o parâmetro adimensional, Rho e o ângulo da trajetória de vôo\n"
   ]
  },
  {
   "cell_type": "code",
   "execution_count": 18,
   "id": "f2c81453",
   "metadata": {},
   "outputs": [
    {
     "name": "stdout",
     "output_type": "stream",
     "text": [
      "Parametro adimensional Qbo: 0.2276\n",
      "Rho no apogeu: 1.0431007751937984\n",
      "O ângulo da trajetória de vôo: 33.6524 graus\n"
     ]
    }
   ],
   "source": [
    "Q_bo = calc_Qbo(r_bo, v_bo, MU_SI)\n",
    "Rho_a = r_a / r_bo\n",
    "print(f\"Rho no apogeu: {Rho_a}\")\n",
    "\n",
    "Phi_bo = np.arccos(np.sqrt(Rho_a*(2 + Rho_a*(Q_bo - 2))/Q_bo))\n",
    "print(f\"O ângulo da trajetória de vôo: {np.degrees(Phi_bo):.4f} graus\")\n"
   ]
  },
  {
   "cell_type": "markdown",
   "id": "fb9d7f36",
   "metadata": {},
   "source": [
    "Calcular Psi, a excentricidade e a anomalia excentrica e, finalmente, o tempo de voo"
   ]
  },
  {
   "cell_type": "code",
   "execution_count": 19,
   "id": "34d65212",
   "metadata": {},
   "outputs": [
    {
     "name": "stdout",
     "output_type": "stream",
     "text": [
      "Máximo alcance angular de vôo livre: 14.2067\n",
      "Semi-eixo maior: 3639.0395 u.d\n",
      "Excentricidade: 0.8488\n",
      "anomalia excêntrica: 2.7141 rad\n"
     ]
    }
   ],
   "source": [
    "Psi = 2*np.arccos((Rho_a*(2+Rho_a*(Q_bo-2))-1)/(1+Rho_a*(Q_bo-2)))\n",
    "print(f\"Máximo alcance angular de vôo livre: {np.degrees(Psi):.4f}\")\n",
    "\n",
    "a = r_bo/(2-Q_bo)\n",
    "print(f\"Semi-eixo maior: {a:.4f} u.d\")\n",
    "e = np.sqrt(1 + Q_bo*(Q_bo-2)*np.cos(Phi_bo)**2)\n",
    "print(f\"Excentricidade: {e:.4f}\")\n",
    "\n",
    "# A anomalia excêntrica no ponto de fim de queima\n",
    "E = np.arccos( (e - np.cos(Psi/2))/(1-e*np.cos(Psi/2)) )\n",
    "print(f\"anomalia excêntrica: {E:.4f} rad\")"
   ]
  },
  {
   "cell_type": "markdown",
   "id": "282c09d8",
   "metadata": {},
   "source": [
    "Tempo de voo"
   ]
  },
  {
   "cell_type": "code",
   "execution_count": 20,
   "id": "2966aaab",
   "metadata": {},
   "outputs": [
    {
     "name": "stdout",
     "output_type": "stream",
     "text": [
      "Tempo de voo livre (hh:mm:ss): 0:09:02.030524\n",
      "Tempo de voo livre: 542.0305s\n"
     ]
    }
   ],
   "source": [
    "t_vl = 2*np.sqrt(a**3/MU_SI)*(np.pi - E+e*np.sin(E))\n",
    "tempo_hms = str(datetime.timedelta(seconds=t_vl))\n",
    "print(f\"Tempo de voo livre (hh:mm:ss): {tempo_hms}\")\n",
    "print(f\"Tempo de voo livre: {t_vl:.4f}s\")"
   ]
  },
  {
   "cell_type": "markdown",
   "id": "7edfc1ec",
   "metadata": {},
   "source": [
    "# Exercicio 11"
   ]
  },
  {
   "cell_type": "code",
   "execution_count": 21,
   "id": "b4092a93",
   "metadata": {},
   "outputs": [],
   "source": [
    "# Input\n",
    "R_vl = 3350 #km\n",
    "r_bo = 6478 #km"
   ]
  },
  {
   "cell_type": "markdown",
   "id": "e8562f9f",
   "metadata": {},
   "source": [
    "A minima velocidade no ponto de fim de queima"
   ]
  },
  {
   "cell_type": "code",
   "execution_count": 22,
   "id": "0aa83512",
   "metadata": {},
   "outputs": [
    {
     "name": "stdout",
     "output_type": "stream",
     "text": [
      "O alcance angular de vôo livre: 30.0942 graus\n",
      "A mínima velocidade: 5.0363 km/s\n"
     ]
    }
   ],
   "source": [
    "Psi = R_vl/r_terra\n",
    "print(f\"O alcance angular de vôo livre: {np.degrees(Psi):.4f} graus\")\n",
    "\n",
    "v_bo_star = np.sqrt((MU_SI/r_bo)*(2*np.sin(Psi/2))/(1 + np.sin(Psi/2)))\n",
    "print(f\"A mínima velocidade: {v_bo_star:.4f} km/s\")"
   ]
  },
  {
   "cell_type": "markdown",
   "id": "744e0753",
   "metadata": {},
   "source": [
    "# Exercicio 13"
   ]
  },
  {
   "cell_type": "code",
   "execution_count": 23,
   "id": "66e19417",
   "metadata": {},
   "outputs": [],
   "source": [
    "# Inputs\n",
    "R_t = 3705 #km\n",
    "R_p = 260 #km\n",
    "R_re = 112 #km\n",
    "r_bo = 6645 #km"
   ]
  },
  {
   "cell_type": "markdown",
   "id": "01cb1b75",
   "metadata": {},
   "source": [
    "A menor velocidade no ponto de fim de queima necessária para atingir o alvo no alcance dado"
   ]
  },
  {
   "cell_type": "code",
   "execution_count": 24,
   "id": "0587714e",
   "metadata": {},
   "outputs": [
    {
     "name": "stdout",
     "output_type": "stream",
     "text": [
      "Alcance linear do vôo livre: 3333 km\n",
      "O alcance angular de vôo livre: 29.9415 graus\n",
      "A mínima velocidade: 4.9628 km/s\n"
     ]
    }
   ],
   "source": [
    "R_vl = R_t - (R_p + R_re)\n",
    "print(f\"Alcance linear do vôo livre: {R_vl} km\")\n",
    "Psi = R_vl/r_terra\n",
    "print(f\"O alcance angular de vôo livre: {np.degrees(Psi):.4f} graus\")\n",
    "v_bo_star = np.sqrt((MU_SI/r_bo)*(2*np.sin(Psi/2))/(1 + np.sin(Psi/2)))\n",
    "print(f\"A mínima velocidade: {v_bo_star:.4f} km/s\")"
   ]
  },
  {
   "cell_type": "markdown",
   "id": "2ba741b6",
   "metadata": {},
   "source": [
    "O ângulo da trajetória de vôo no ponto de fim de queima"
   ]
  },
  {
   "cell_type": "code",
   "execution_count": 25,
   "id": "fc3ba92b",
   "metadata": {},
   "outputs": [
    {
     "name": "stdout",
     "output_type": "stream",
     "text": [
      "O ângulo da trajetória de vôo: 37.5146 graus\n"
     ]
    }
   ],
   "source": [
    "Phi_bo = (1/4)*(np.pi - Psi)\n",
    "print(f\"O ângulo da trajetória de vôo: {np.degrees(Phi_bo):.4f} graus\")"
   ]
  },
  {
   "cell_type": "markdown",
   "id": "0366d724",
   "metadata": {},
   "source": [
    "Duração do vôo livre"
   ]
  },
  {
   "cell_type": "code",
   "execution_count": 26,
   "id": "fd735a72",
   "metadata": {},
   "outputs": [
    {
     "name": "stdout",
     "output_type": "stream",
     "text": [
      "Semi-eixo maior: 4180.7876 u.d\n",
      "Excentricidade: 0.7677\n",
      "anomalia excêntrica: 2.4461 rad\n",
      "Tempo de voo livre (hh:mm:ss): 0:16:56.858906\n",
      "Tempo de voo livre: 1016.8589s\n"
     ]
    }
   ],
   "source": [
    "Q_bo = 2*np.sin(Psi/2)/(1+np.sin(Psi/2))\n",
    "a = r_bo/(2-Q_bo)\n",
    "print(f\"Semi-eixo maior: {a:.4f} u.d\")\n",
    "e = np.sqrt(1 + Q_bo*(Q_bo-2)*np.cos(Phi_bo)**2)\n",
    "print(f\"Excentricidade: {e:.4f}\")\n",
    "\n",
    "# A anomalia excêntrica no ponto de fim de queima\n",
    "E = np.arccos( (e - np.cos(Psi/2))/(1-e*np.cos(Psi/2)) )\n",
    "print(f\"anomalia excêntrica: {E:.4f} rad\")\n",
    "\n",
    "t_vl = 2*np.sqrt(a**3/MU_SI)*(np.pi - E+e*np.sin(E))\n",
    "tempo_hms = str(datetime.timedelta(seconds=t_vl))\n",
    "print(f\"Tempo de voo livre (hh:mm:ss): {tempo_hms}\")\n",
    "print(f\"Tempo de voo livre: {t_vl:.4f}s\")"
   ]
  }
 ],
 "metadata": {
  "kernelspec": {
   "display_name": "Python 3",
   "language": "python",
   "name": "python3"
  },
  "language_info": {
   "codemirror_mode": {
    "name": "ipython",
    "version": 3
   },
   "file_extension": ".py",
   "mimetype": "text/x-python",
   "name": "python",
   "nbconvert_exporter": "python",
   "pygments_lexer": "ipython3",
   "version": "3.9.7"
  }
 },
 "nbformat": 4,
 "nbformat_minor": 5
}
